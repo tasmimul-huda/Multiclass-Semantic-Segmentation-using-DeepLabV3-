{
 "cells": [
  {
   "cell_type": "code",
   "execution_count": 2,
   "id": "f3f9f3b2-0a2d-4486-b74e-d9ba59102842",
   "metadata": {},
   "outputs": [],
   "source": [
    "import os\n",
    "import cv2\n",
    "import numpy as np\n",
    "from glob import glob\n",
    "from scipy.io import loadmat\n",
    "import matplotlib.pyplot as plt\n",
    "\n",
    "import tensorflow as tf\n",
    "from tensorflow import keras\n",
    "from tensorflow.keras import layers"
   ]
  },
  {
   "cell_type": "code",
   "execution_count": 3,
   "id": "1c4521c1-207e-4758-a777-7d7bfe4e1625",
   "metadata": {},
   "outputs": [
    {
     "data": {
      "text/plain": [
       "['Categories',\n",
       " 'Category_ids',\n",
       " 'Human',\n",
       " 'Human_ids',\n",
       " 'Images',\n",
       " 'Instances',\n",
       " 'Instance_ids',\n",
       " 'train_id.txt']"
      ]
     },
     "execution_count": 3,
     "metadata": {},
     "output_type": "execute_result"
    }
   ],
   "source": [
    "DATA_DIR = \"D:/DeepLabV3+/instance-level-human-parsing/instance-level_human_parsing/instance-level_human_parsing/Training\"\n",
    "os.listdir(DATA_DIR)"
   ]
  },
  {
   "cell_type": "code",
   "execution_count": 4,
   "id": "920c3698-98d3-4af5-847a-196b2dc02d80",
   "metadata": {},
   "outputs": [],
   "source": [
    "IMAGE_SIZE = 512\n",
    "BATCH_SIZE = 4\n",
    "NUM_CLASSES = 20\n",
    "DATA_DIR = \"D:/DeepLabV3+/instance-level-human-parsing/instance-level_human_parsing/instance-level_human_parsing/Training\"\n",
    "NUM_TRAIN_IMAGES = 1000\n",
    "NUM_VAL_IMAGES = 50\n",
    "\n",
    "train_images = sorted(glob(os.path.join(DATA_DIR, \"Images/*\")))[:NUM_TRAIN_IMAGES]\n",
    "train_masks = sorted(glob(os.path.join(DATA_DIR, \"Category_ids/*\")))[:NUM_TRAIN_IMAGES]\n",
    "\n",
    "val_images = sorted(glob(os.path.join(DATA_DIR, \"Images/*\")))[\n",
    "    NUM_TRAIN_IMAGES : NUM_VAL_IMAGES + NUM_TRAIN_IMAGES\n",
    "]\n",
    "val_masks = sorted(glob(os.path.join(DATA_DIR, \"Category_ids/*\")))[\n",
    "    NUM_TRAIN_IMAGES : NUM_VAL_IMAGES + NUM_TRAIN_IMAGES\n",
    "]\n"
   ]
  },
  {
   "cell_type": "code",
   "execution_count": 5,
   "id": "a1107d13-d5d1-4e8e-b435-6ae20d125c6a",
   "metadata": {},
   "outputs": [],
   "source": [
    "import os\n",
    "import tensorflow as tf\n",
    "from PIL import Image\n",
    "\n",
    "class CIHPDataLoader:\n",
    "    def __init__(self, image_paths, mask_paths, img_size=(512, 512), batch_size=32):\n",
    "        self.img_size = img_size\n",
    "        self.image_paths = image_paths\n",
    "        self.mask_paths = mask_paths\n",
    "        self.batch_size = batch_size\n",
    "        self.num_samples = len(self.image_paths)\n",
    "\n",
    "    def _parse_function(self, image_path, mask_path):\n",
    "        image = tf.io.read_file(image_path)\n",
    "        image = tf.image.decode_png(image, channels=3)\n",
    "        image = tf.image.resize(image, self.img_size, method=tf.image.ResizeMethod.BILINEAR)\n",
    "        image = tf.cast(image, tf.float32)\n",
    "        image /= 255.0\n",
    "\n",
    "        mask = tf.io.read_file(mask_path)\n",
    "        mask = tf.image.decode_png(mask, channels=1)\n",
    "        mask = tf.image.resize(mask, self.img_size, method=tf.image.ResizeMethod.NEAREST_NEIGHBOR)\n",
    "        mask = tf.squeeze(mask)\n",
    "        return image, mask\n",
    "\n",
    "    def get_dataset(self):\n",
    "        dataset = tf.data.Dataset.from_tensor_slices((self.image_paths, self.mask_paths))\n",
    "        dataset = dataset.shuffle(buffer_size=self.num_samples, reshuffle_each_iteration=True)\n",
    "        dataset = dataset.map(self._parse_function, num_parallel_calls=tf.data.AUTOTUNE)\n",
    "        dataset = dataset.batch(self.batch_size)\n",
    "        dataset = dataset.prefetch(tf.data.AUTOTUNE)\n",
    "        return dataset\n"
   ]
  },
  {
   "cell_type": "code",
   "execution_count": 6,
   "id": "5227264b-d909-40b1-b74a-c033e54a5272",
   "metadata": {},
   "outputs": [],
   "source": [
    "train_data_loader = CIHPDataLoader(train_images,train_masks)\n",
    "train_dataset = train_data_loader.get_dataset()"
   ]
  },
  {
   "cell_type": "code",
   "execution_count": 7,
   "id": "846c5668-36bf-4ac7-89a4-f18e4cbf1398",
   "metadata": {},
   "outputs": [
    {
     "name": "stdout",
     "output_type": "stream",
     "text": [
      "(32, 512, 512, 3) (32, 512, 512)\n",
      "(32, 512, 512, 3) (32, 512, 512)\n",
      "(32, 512, 512, 3) (32, 512, 512)\n",
      "(32, 512, 512, 3) (32, 512, 512)\n",
      "(32, 512, 512, 3) (32, 512, 512)\n",
      "(32, 512, 512, 3) (32, 512, 512)\n"
     ]
    }
   ],
   "source": [
    "for i, (x,y) in enumerate(train_dataset):\n",
    "    print(x.shape, y.shape)\n",
    "    if i ==5:\n",
    "        break"
   ]
  },
  {
   "cell_type": "code",
   "execution_count": 8,
   "id": "4f036a79-7ad6-43fa-98a2-fa7b87725727",
   "metadata": {},
   "outputs": [],
   "source": [
    "val_data_loader = CIHPDataLoader(val_images,val_masks)\n",
    "val_dataset = val_data_loader.get_dataset()"
   ]
  },
  {
   "cell_type": "code",
   "execution_count": 9,
   "id": "0ad19586-370a-4f2b-9a30-15c57fc69b89",
   "metadata": {},
   "outputs": [
    {
     "name": "stdout",
     "output_type": "stream",
     "text": [
      "(32, 512, 512, 3) (32, 512, 512)\n",
      "(18, 512, 512, 3) (18, 512, 512)\n"
     ]
    }
   ],
   "source": [
    "for i, (x,y) in enumerate(val_dataset):\n",
    "    print(x.shape, y.shape)\n",
    "    if i ==5:\n",
    "        break"
   ]
  },
  {
   "cell_type": "code",
   "execution_count": 11,
   "id": "3aa68d74-2eae-4f5a-a9e6-49e217199315",
   "metadata": {},
   "outputs": [],
   "source": [
    "def convolution_block(block_input, num_filters=256, kernel_size=3, dilation_rate=1, padding=\"same\", use_bias=False,):\n",
    "    x = layers.Conv2D(\n",
    "        num_filters,\n",
    "        kernel_size=kernel_size,\n",
    "        dilation_rate=dilation_rate,\n",
    "        padding=\"same\",\n",
    "        use_bias=use_bias,\n",
    "        kernel_initializer=keras.initializers.HeNormal(),\n",
    "    )(block_input)\n",
    "    x = layers.BatchNormalization()(x)\n",
    "    return tf.nn.relu(x)\n",
    "\n",
    "\n",
    "def DilatedSpatialPyramidPooling(dspp_input):\n",
    "    dims = dspp_input.shape\n",
    "    x = layers.AveragePooling2D(pool_size=(dims[-3], dims[-2]))(dspp_input)\n",
    "    x = convolution_block(x, kernel_size=1, use_bias=True)\n",
    "    out_pool = layers.UpSampling2D(\n",
    "        size=(dims[-3] // x.shape[1], dims[-2] // x.shape[2]), interpolation=\"bilinear\",\n",
    "    )(x)\n",
    "\n",
    "    out_1 = convolution_block(dspp_input, kernel_size=1, dilation_rate=1)\n",
    "    out_6 = convolution_block(dspp_input, kernel_size=3, dilation_rate=6)\n",
    "    out_12 = convolution_block(dspp_input, kernel_size=3, dilation_rate=12)\n",
    "    out_18 = convolution_block(dspp_input, kernel_size=3, dilation_rate=18)\n",
    "\n",
    "    x = layers.Concatenate(axis=-1)([out_pool, out_1, out_6, out_12, out_18])\n",
    "    output = convolution_block(x, kernel_size=1)\n",
    "    return output"
   ]
  },
  {
   "cell_type": "code",
   "execution_count": 15,
   "id": "ec2ca010-dc00-4ee1-b76a-48244d230b83",
   "metadata": {},
   "outputs": [],
   "source": [
    "class DeeplabV3Plus():\n",
    "    def __init__(self, image_size, num_classes):\n",
    "        self.image_size = image_size\n",
    "        self.num_classes = num_classes\n",
    "        self.model = None\n",
    "        \n",
    "    def build_model(self):\n",
    "        model_input = keras.Input(shape=(self.image_size, self.image_size, 3))\n",
    "        resnet50 = keras.applications.ResNet50(weights=\"imagenet\", include_top=False, input_tensor=model_input)\n",
    "        x = resnet50.get_layer(\"conv4_block6_2_relu\").output\n",
    "        x = DilatedSpatialPyramidPooling(x)\n",
    "        \n",
    "        input_a = layers.UpSampling2D(\n",
    "            size=(self.image_size // 4 // x.shape[1], self.image_size // 4 // x.shape[2]),\n",
    "            interpolation=\"bilinear\",)(x)\n",
    "        \n",
    "        input_b = resnet50.get_layer(\"conv2_block3_2_relu\").output\n",
    "        input_b = convolution_block(input_b, num_filters=48, kernel_size=1)\n",
    "\n",
    "        x = layers.Concatenate(axis=-1)([input_a, input_b])\n",
    "        x = convolution_block(x)\n",
    "        x = convolution_block(x)\n",
    "        x = layers.UpSampling2D(\n",
    "            size=(self.image_size // x.shape[1], self.image_size // x.shape[2]),\n",
    "            interpolation=\"bilinear\",)(x)\n",
    "        \n",
    "        model_output = layers.Conv2D(self.num_classes, kernel_size=(1, 1), padding=\"same\")(x)\n",
    "        self.model = keras.Model(inputs=model_input, outputs=model_output)\n",
    "        # return keras.Model(inputs=model_input, outputs=model_output)\n",
    "    \n",
    "    def compile_model(self, learning_rate=0.001):\n",
    "        self.model.compile(optimizer=tf.keras.optimizers.Adam(learning_rate=learning_rate),\n",
    "                           loss=tf.keras.losses.SparseCategoricalCrossentropy(from_logits=True),\n",
    "                           metrics=[\"accuracy\"],\n",
    "                          )\n",
    "    def train(self, train_dataset, val_dataset,epochs=40):\n",
    "        # Load the data\n",
    "        # train_dataset =train_dataset# self._load_data(train_data_dir, batch_size)\n",
    "        # val_dataset = val_dataset #self._load_data(val_data_dir, batch_size)\n",
    "        # Train the model\n",
    "        history =  self.model.fit(train_dataset,\n",
    "                                 epochs=epochs,\n",
    "                                 validation_data=val_dataset,\n",
    "                                 )\n",
    "        return history        "
   ]
  },
  {
   "cell_type": "code",
   "execution_count": 16,
   "id": "7ed4c9fa-a9ee-4005-98cf-e8b3ccc3d866",
   "metadata": {},
   "outputs": [],
   "source": [
    "model = DeeplabV3Plus(IMAGE_SIZE, NUM_CLASSES)\n",
    "\n",
    "# Build the model architecture\n",
    "model.build_model()\n",
    "# Compile the model\n",
    "model.compile_model(learning_rate=0.0001)"
   ]
  },
  {
   "cell_type": "code",
   "execution_count": null,
   "id": "21d8b214-31e8-4f44-af0d-27bd7ac86d58",
   "metadata": {},
   "outputs": [
    {
     "name": "stdout",
     "output_type": "stream",
     "text": [
      "Epoch 1/2\n"
     ]
    }
   ],
   "source": [
    "history = model.train(train_dataset, val_dataset, epochs=2)"
   ]
  },
  {
   "cell_type": "code",
   "execution_count": null,
   "id": "40b65a0b-c590-4445-bb6c-58db702e3be8",
   "metadata": {},
   "outputs": [],
   "source": []
  },
  {
   "cell_type": "code",
   "execution_count": null,
   "id": "cbaddf48-755a-4eb6-90d0-08b85711a44b",
   "metadata": {},
   "outputs": [
    {
     "name": "stdout",
     "output_type": "stream",
     "text": [
      "Epoch 1/25\n",
      " 71/250 [=======>......................] - ETA: 1:06:06 - loss: 1.3665 - accuracy: 0.6105"
     ]
    }
   ],
   "source": [
    "plt.plot(history.history[\"loss\"])\n",
    "plt.title(\"Training Loss\")\n",
    "plt.ylabel(\"loss\")\n",
    "plt.xlabel(\"epoch\")\n",
    "plt.show()\n",
    "\n",
    "plt.plot(history.history[\"accuracy\"])\n",
    "plt.title(\"Training Accuracy\")\n",
    "plt.ylabel(\"accuracy\")\n",
    "plt.xlabel(\"epoch\")\n",
    "plt.show()\n",
    "\n",
    "plt.plot(history.history[\"val_loss\"])\n",
    "plt.title(\"Validation Loss\")\n",
    "plt.ylabel(\"val_loss\")\n",
    "plt.xlabel(\"epoch\")\n",
    "plt.show()\n",
    "\n",
    "plt.plot(history.history[\"val_accuracy\"])\n",
    "plt.title(\"Validation Accuracy\")\n",
    "plt.ylabel(\"val_accuracy\")\n",
    "plt.xlabel(\"epoch\")\n",
    "plt.show()"
   ]
  },
  {
   "cell_type": "markdown",
   "id": "9cb5dbec-7636-4294-bb4e-6dbb0139a10b",
   "metadata": {},
   "source": [
    "### Inference using Colormap Overlay"
   ]
  },
  {
   "cell_type": "code",
   "execution_count": null,
   "id": "09c07272-87d4-4cab-a61e-7898c3cda5ad",
   "metadata": {},
   "outputs": [],
   "source": []
  }
 ],
 "metadata": {
  "kernelspec": {
   "display_name": "Python 3 (ipykernel)",
   "language": "python",
   "name": "python3"
  },
  "language_info": {
   "codemirror_mode": {
    "name": "ipython",
    "version": 3
   },
   "file_extension": ".py",
   "mimetype": "text/x-python",
   "name": "python",
   "nbconvert_exporter": "python",
   "pygments_lexer": "ipython3",
   "version": "3.9.12"
  }
 },
 "nbformat": 4,
 "nbformat_minor": 5
}
